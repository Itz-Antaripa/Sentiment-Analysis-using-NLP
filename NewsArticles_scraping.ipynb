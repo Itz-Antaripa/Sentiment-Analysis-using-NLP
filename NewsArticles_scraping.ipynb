{
  "nbformat": 4,
  "nbformat_minor": 0,
  "metadata": {
    "colab": {
      "name": "NewsArticles_scraping",
      "provenance": [],
      "authorship_tag": "ABX9TyMs9MceSPMqzQR86AQmAnhL",
      "include_colab_link": true
    },
    "kernelspec": {
      "name": "python3",
      "display_name": "Python 3"
    }
  },
  "cells": [
    {
      "cell_type": "markdown",
      "metadata": {
        "id": "view-in-github",
        "colab_type": "text"
      },
      "source": [
        "<a href=\"https://colab.research.google.com/github/Itz-Antaripa/Sentiment-Analysis-using-NLP/blob/master/NewsArticles_scraping.ipynb\" target=\"_parent\"><img src=\"https://colab.research.google.com/assets/colab-badge.svg\" alt=\"Open In Colab\"/></a>"
      ]
    },
    {
      "cell_type": "code",
      "metadata": {
        "id": "3o6JynvUowuP",
        "colab_type": "code",
        "outputId": "1769da1c-dc7b-4f9a-c24a-dbc37163367e",
        "colab": {
          "base_uri": "https://localhost:8080/",
          "height": 904
        }
      },
      "source": [
        "#installing packages\n",
        "%pip install nltk\n",
        "%pip install newspaper3k"
      ],
      "execution_count": 2,
      "outputs": [
        {
          "output_type": "stream",
          "text": [
            "Requirement already satisfied: nltk in /usr/local/lib/python3.6/dist-packages (3.2.5)\n",
            "Requirement already satisfied: six in /usr/local/lib/python3.6/dist-packages (from nltk) (1.12.0)\n",
            "Collecting newspaper3k\n",
            "\u001b[?25l  Downloading https://files.pythonhosted.org/packages/d7/b9/51afecb35bb61b188a4b44868001de348a0e8134b4dfa00ffc191567c4b9/newspaper3k-0.2.8-py3-none-any.whl (211kB)\n",
            "\u001b[K     |████████████████████████████████| 215kB 2.7MB/s \n",
            "\u001b[?25hCollecting feedparser>=5.2.1\n",
            "\u001b[?25l  Downloading https://files.pythonhosted.org/packages/91/d8/7d37fec71ff7c9dbcdd80d2b48bcdd86d6af502156fc93846fb0102cb2c4/feedparser-5.2.1.tar.bz2 (192kB)\n",
            "\u001b[K     |████████████████████████████████| 194kB 49.3MB/s \n",
            "\u001b[?25hRequirement already satisfied: python-dateutil>=2.5.3 in /usr/local/lib/python3.6/dist-packages (from newspaper3k) (2.8.1)\n",
            "Collecting jieba3k>=0.35.1\n",
            "\u001b[?25l  Downloading https://files.pythonhosted.org/packages/a9/cb/2c8332bcdc14d33b0bedd18ae0a4981a069c3513e445120da3c3f23a8aaa/jieba3k-0.35.1.zip (7.4MB)\n",
            "\u001b[K     |████████████████████████████████| 7.4MB 18.2MB/s \n",
            "\u001b[?25hCollecting tinysegmenter==0.3\n",
            "  Downloading https://files.pythonhosted.org/packages/17/82/86982e4b6d16e4febc79c2a1d68ee3b707e8a020c5d2bc4af8052d0f136a/tinysegmenter-0.3.tar.gz\n",
            "Requirement already satisfied: PyYAML>=3.11 in /usr/local/lib/python3.6/dist-packages (from newspaper3k) (3.13)\n",
            "Collecting tldextract>=2.0.1\n",
            "\u001b[?25l  Downloading https://files.pythonhosted.org/packages/fd/0e/9ab599d6e78f0340bb1d1e28ddeacb38c8bb7f91a1b0eae9a24e9603782f/tldextract-2.2.2-py2.py3-none-any.whl (48kB)\n",
            "\u001b[K     |████████████████████████████████| 51kB 5.5MB/s \n",
            "\u001b[?25hRequirement already satisfied: lxml>=3.6.0 in /usr/local/lib/python3.6/dist-packages (from newspaper3k) (4.2.6)\n",
            "Requirement already satisfied: requests>=2.10.0 in /usr/local/lib/python3.6/dist-packages (from newspaper3k) (2.23.0)\n",
            "Collecting feedfinder2>=0.0.4\n",
            "  Downloading https://files.pythonhosted.org/packages/35/82/1251fefec3bb4b03fd966c7e7f7a41c9fc2bb00d823a34c13f847fd61406/feedfinder2-0.0.4.tar.gz\n",
            "Collecting cssselect>=0.9.2\n",
            "  Downloading https://files.pythonhosted.org/packages/3b/d4/3b5c17f00cce85b9a1e6f91096e1cc8e8ede2e1be8e96b87ce1ed09e92c5/cssselect-1.1.0-py2.py3-none-any.whl\n",
            "Requirement already satisfied: Pillow>=3.3.0 in /usr/local/lib/python3.6/dist-packages (from newspaper3k) (7.0.0)\n",
            "Requirement already satisfied: nltk>=3.2.1 in /usr/local/lib/python3.6/dist-packages (from newspaper3k) (3.2.5)\n",
            "Requirement already satisfied: beautifulsoup4>=4.4.1 in /usr/local/lib/python3.6/dist-packages (from newspaper3k) (4.6.3)\n",
            "Requirement already satisfied: six>=1.5 in /usr/local/lib/python3.6/dist-packages (from python-dateutil>=2.5.3->newspaper3k) (1.12.0)\n",
            "Requirement already satisfied: setuptools in /usr/local/lib/python3.6/dist-packages (from tldextract>=2.0.1->newspaper3k) (47.1.1)\n",
            "Collecting requests-file>=1.4\n",
            "  Downloading https://files.pythonhosted.org/packages/77/86/cdb5e8eaed90796aa83a6d9f75cfbd37af553c47a291cd47bc410ef9bdb2/requests_file-1.5.1-py2.py3-none-any.whl\n",
            "Requirement already satisfied: idna in /usr/local/lib/python3.6/dist-packages (from tldextract>=2.0.1->newspaper3k) (2.9)\n",
            "Requirement already satisfied: urllib3!=1.25.0,!=1.25.1,<1.26,>=1.21.1 in /usr/local/lib/python3.6/dist-packages (from requests>=2.10.0->newspaper3k) (1.24.3)\n",
            "Requirement already satisfied: certifi>=2017.4.17 in /usr/local/lib/python3.6/dist-packages (from requests>=2.10.0->newspaper3k) (2020.4.5.1)\n",
            "Requirement already satisfied: chardet<4,>=3.0.2 in /usr/local/lib/python3.6/dist-packages (from requests>=2.10.0->newspaper3k) (3.0.4)\n",
            "Building wheels for collected packages: feedparser, jieba3k, tinysegmenter, feedfinder2\n",
            "  Building wheel for feedparser (setup.py) ... \u001b[?25l\u001b[?25hdone\n",
            "  Created wheel for feedparser: filename=feedparser-5.2.1-cp36-none-any.whl size=44940 sha256=ef49b5cd9edcc6c5666b6cbcadb4fd88377f58d182baf76c537544f5f6b1d4c0\n",
            "  Stored in directory: /root/.cache/pip/wheels/8c/69/b7/f52763c41c5471df57703a0ef718a32a5e81ee35dcf6d4f97f\n",
            "  Building wheel for jieba3k (setup.py) ... \u001b[?25l\u001b[?25hdone\n",
            "  Created wheel for jieba3k: filename=jieba3k-0.35.1-cp36-none-any.whl size=7398406 sha256=d2a765fcdf755a2a7970c9fcccda3c5f3868cca8eb259c89a6f5db014ecabe0b\n",
            "  Stored in directory: /root/.cache/pip/wheels/83/15/9c/a3f1f67e7f7181170ad37d32e503c35da20627c013f438ed34\n",
            "  Building wheel for tinysegmenter (setup.py) ... \u001b[?25l\u001b[?25hdone\n",
            "  Created wheel for tinysegmenter: filename=tinysegmenter-0.3-cp36-none-any.whl size=13539 sha256=7c3bfa34ea046611b3d2c505ef698e3c1680c8b061389cb3883506b3f9e355bd\n",
            "  Stored in directory: /root/.cache/pip/wheels/81/2b/43/a02ede72324dd40cdd7ca53aad718c7710628e91b8b0dc0f02\n",
            "  Building wheel for feedfinder2 (setup.py) ... \u001b[?25l\u001b[?25hdone\n",
            "  Created wheel for feedfinder2: filename=feedfinder2-0.0.4-cp36-none-any.whl size=3357 sha256=99b7ee23235e778f86b0caf2a40bc166abf7e2536173f4a8944c8e5f811e603f\n",
            "  Stored in directory: /root/.cache/pip/wheels/de/03/ca/778e3a7a627e3d98836cc890e7cb40c7575424cfd3340f40ed\n",
            "Successfully built feedparser jieba3k tinysegmenter feedfinder2\n",
            "Installing collected packages: feedparser, jieba3k, tinysegmenter, requests-file, tldextract, feedfinder2, cssselect, newspaper3k\n",
            "Successfully installed cssselect-1.1.0 feedfinder2-0.0.4 feedparser-5.2.1 jieba3k-0.35.1 newspaper3k-0.2.8 requests-file-1.5.1 tinysegmenter-0.3 tldextract-2.2.2\n"
          ],
          "name": "stdout"
        }
      ]
    },
    {
      "cell_type": "code",
      "metadata": {
        "id": "VwCtsjvUqFp-",
        "colab_type": "code",
        "colab": {}
      },
      "source": [
        "#Importing the required libraries\n",
        "import nltk\n",
        "from newspaper import Article\n",
        "import pandas as pd"
      ],
      "execution_count": 0,
      "outputs": []
    },
    {
      "cell_type": "markdown",
      "metadata": {
        "id": "Vh52bijMq8yL",
        "colab_type": "text"
      },
      "source": [
        "**I will be scraping ten articles on climate change**"
      ]
    },
    {
      "cell_type": "code",
      "metadata": {
        "id": "djddhpfNqbtc",
        "colab_type": "code",
        "colab": {}
      },
      "source": [
        "#Store the urls of the articles\n",
        "url0 = 'https://www.scientificamerican.com/article/how-the-environment-has-changed-since-the-first-earth-day-50-years-ago/'\n",
        "url1 = 'https://www.newscientist.com/article/2242855-climate-change-has-already-made-parts-of-the-world-too-hot-for-humans/'\n",
        "url2 = 'https://www.nytimes.com/2020/05/09/world/europe/will-the-coronavirus-crisis-trump-the-climate-crisis.html'\n",
        "url3 = 'https://phys.org/news/2020-05-wetter-climate-global.html'\n",
        "url4 = 'https://www.bbc.com/future/article/20200504-which-trees-reduce-air-pollution-best'\n",
        "url5 = 'https://www.deccanherald.com/science-and-environment/coronavirus-lockdown-air-pollution-in-india-lowest-in-20-years-says-nasa-study-828832.html'\n",
        "url6 = 'https://www.weforum.org/agenda/2020/04/the-deadly-link-between-covid-19-and-air-pollution/'\n",
        "url7 = 'https://economictimes.indiatimes.com/news/politics-and-nation/delhi-breathes-better-amid-lockdown-pollution-drops-to-record-low/articleshow/75311591.cms'\n",
        "url8 = 'https://www.thejakartapost.com/news/2020/05/08/plastic-recycling-company-looks-to-expand-as-circular-economy-blooms.html'\n",
        "url9 = 'https://www.history.com/news/recycling-history-america'\n",
        "\n"
      ],
      "execution_count": 0,
      "outputs": []
    },
    {
      "cell_type": "code",
      "metadata": {
        "id": "qO38-WcLw5TA",
        "colab_type": "code",
        "colab": {}
      },
      "source": [
        "# Get the articles\n",
        "article0 = Article(url0)\n",
        "article1 = Article(url1)\n",
        "article2 = Article(url2)\n",
        "article3 = Article(url3)\n",
        "article4 = Article(url4)\n",
        "article5 = Article(url5)\n",
        "article6 = Article(url6)\n",
        "article7 = Article(url7)\n",
        "article8 = Article(url8)\n",
        "article9 = Article(url9)"
      ],
      "execution_count": 0,
      "outputs": []
    },
    {
      "cell_type": "code",
      "metadata": {
        "id": "y-SQf6qWrUqv",
        "colab_type": "code",
        "outputId": "fce03374-5984-43af-a7d2-a92822f4ed1d",
        "colab": {
          "base_uri": "https://localhost:8080/",
          "height": 357
        }
      },
      "source": [
        "article0.download()\n",
        "article0.parse()\n",
        "nltk.download('punkt')\n",
        "article0.nlp()\n",
        "\n",
        "article1.download()\n",
        "article1.parse()\n",
        "nltk.download('punkt')\n",
        "article1.nlp()\n",
        "\n",
        "article2.download()\n",
        "article2.parse()\n",
        "nltk.download('punkt')\n",
        "article2.nlp()\n",
        "\n",
        "article3.download()\n",
        "article3.parse()\n",
        "nltk.download('punkt')\n",
        "article3.nlp()\n",
        "\n",
        "article4.download()\n",
        "article4.parse()\n",
        "nltk.download('punkt')\n",
        "article4.nlp()\n",
        "\n",
        "article5.download()\n",
        "article5.parse()\n",
        "nltk.download('punkt')\n",
        "article5.nlp()\n",
        "\n",
        "article6.download()\n",
        "article6.parse()\n",
        "nltk.download('punkt')\n",
        "article6.nlp()\n",
        "\n",
        "article7.download()\n",
        "article7.parse()\n",
        "nltk.download('punkt')\n",
        "article7.nlp()\n",
        "\n",
        "article8.download()\n",
        "article8.parse()\n",
        "nltk.download('punkt')\n",
        "article8.nlp()\n",
        "\n",
        "article9.download()\n",
        "article9.parse()\n",
        "nltk.download('punkt')\n",
        "article9.nlp()"
      ],
      "execution_count": 6,
      "outputs": [
        {
          "output_type": "stream",
          "text": [
            "[nltk_data] Downloading package punkt to /root/nltk_data...\n",
            "[nltk_data]   Unzipping tokenizers/punkt.zip.\n",
            "[nltk_data] Downloading package punkt to /root/nltk_data...\n",
            "[nltk_data]   Package punkt is already up-to-date!\n",
            "[nltk_data] Downloading package punkt to /root/nltk_data...\n",
            "[nltk_data]   Package punkt is already up-to-date!\n",
            "[nltk_data] Downloading package punkt to /root/nltk_data...\n",
            "[nltk_data]   Package punkt is already up-to-date!\n",
            "[nltk_data] Downloading package punkt to /root/nltk_data...\n",
            "[nltk_data]   Package punkt is already up-to-date!\n",
            "[nltk_data] Downloading package punkt to /root/nltk_data...\n",
            "[nltk_data]   Package punkt is already up-to-date!\n",
            "[nltk_data] Downloading package punkt to /root/nltk_data...\n",
            "[nltk_data]   Package punkt is already up-to-date!\n",
            "[nltk_data] Downloading package punkt to /root/nltk_data...\n",
            "[nltk_data]   Package punkt is already up-to-date!\n",
            "[nltk_data] Downloading package punkt to /root/nltk_data...\n",
            "[nltk_data]   Package punkt is already up-to-date!\n",
            "[nltk_data] Downloading package punkt to /root/nltk_data...\n",
            "[nltk_data]   Package punkt is already up-to-date!\n"
          ],
          "name": "stdout"
        }
      ]
    },
    {
      "cell_type": "code",
      "metadata": {
        "id": "jrgzS2fAwlKA",
        "colab_type": "code",
        "outputId": "266817a6-d40a-4810-9a6e-3b48dac79335",
        "colab": {
          "base_uri": "https://localhost:8080/",
          "height": 54
        }
      },
      "source": [
        "article1.summary"
      ],
      "execution_count": 7,
      "outputs": [
        {
          "output_type": "execute_result",
          "data": {
            "text/plain": [
              "'Climate change is already making some places unliveable AKHTAR SOOMRO/Reuters/PA ImagesGlobal warming has already made parts of the world hotter than the human body can withstand, decades earlier than climate models expected.\\nWet bulb temperature (TW) is a measure of heat and humidity, taken from a thermometer covered in a water-soaked cloth.\\nBeyond a TW threshold of 35°C, the body is unable to cool itself by sweating.\\nEven if they could, it would require huge amounts of energy for cooling, possibly further exacerbating climate change.\\n“It is difficult to link a wet bulb temperature threshold to specific health outcomes, and for different population groups,” she says.'"
            ]
          },
          "metadata": {
            "tags": []
          },
          "execution_count": 7
        }
      ]
    },
    {
      "cell_type": "code",
      "metadata": {
        "id": "SLX7ihpU2eqx",
        "colab_type": "code",
        "colab": {
          "base_uri": "https://localhost:8080/",
          "height": 34
        },
        "outputId": "0a876c03-9b98-4370-eda3-ef8b4e9ead86"
      },
      "source": [
        "article9.title"
      ],
      "execution_count": 8,
      "outputs": [
        {
          "output_type": "execute_result",
          "data": {
            "text/plain": [
              "'When Did Americans Start Recycling?'"
            ]
          },
          "metadata": {
            "tags": []
          },
          "execution_count": 8
        }
      ]
    },
    {
      "cell_type": "markdown",
      "metadata": {
        "id": "BOi_UG303BWD",
        "colab_type": "text"
      },
      "source": [
        "*Print all the titles of the news article*"
      ]
    },
    {
      "cell_type": "code",
      "metadata": {
        "id": "p9Mrh9dD2oNl",
        "colab_type": "code",
        "colab": {
          "base_uri": "https://localhost:8080/",
          "height": 187
        },
        "outputId": "9d4c3d3e-6c8a-4c41-b911-74dbac095e17"
      },
      "source": [
        "list_articles = [article0, article1 , article2 , article3 , article4 , article5 , article6 , article7 , article8 , article9]\n",
        "for article in list_articles:\n",
        "  print(\"'\" + article.title + \"'\")"
      ],
      "execution_count": 10,
      "outputs": [
        {
          "output_type": "stream",
          "text": [
            "'How the Environment Has Changed since the First Earth Day 50 Years Ago'\n",
            "'Climate change has already made parts of the world too hot for humans'\n",
            "'Will the Coronavirus Crisis Trump the Climate Crisis?'\n",
            "'Study shows wetter climate is likely to intensify global warming'\n",
            "'The best trees to reduce air pollution'\n",
            "'Coronavirus lockdown: Air pollution in India lowest in 20 years, says NASA study'\n",
            "'COVID-19 and air pollution: a deadly connection'\n",
            "'Delhi breathes better amid lockdown, pollution drops to record low'\n",
            "'Plastic recycling company looks to expand as circular economy blooms'\n",
            "'When Did Americans Start Recycling?'\n"
          ],
          "name": "stdout"
        }
      ]
    }
  ]
}